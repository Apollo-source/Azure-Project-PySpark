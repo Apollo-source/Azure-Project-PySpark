{
 "cells": [
  {
   "cell_type": "code",
   "execution_count": null,
   "id": "27c380a9-2e88-400e-a171-1c928fec1d89",
   "metadata": {},
   "outputs": [],
   "source": [
    "athletes = spark.read.format(\"csv\").load(\"/mnt/tokyoolympic/athletes.csv\")"
   ]
  },
  {
   "cell_type": "code",
   "execution_count": null,
   "id": "ae08bf1f-91a5-4912-9738-285b761356a3",
   "metadata": {},
   "outputs": [],
   "source": [
    "athletes = spark.read.format(\"csv\").option(\"header\",\"true\").load(\"/mnt/tokyoolympic/athletes.csv\")\n"
   ]
  },
  {
   "cell_type": "code",
   "execution_count": null,
   "id": "b83f986d-b0ef-4529-a300-880f2d4f8f3e",
   "metadata": {},
   "outputs": [],
   "source": [
    "athletes.show()"
   ]
  },
  {
   "cell_type": "code",
   "execution_count": null,
   "id": "412359c6-776b-4782-ae2b-401f7e230076",
   "metadata": {},
   "outputs": [],
   "source": [
    "athletes = spark.read.format(\"csv\").option(\"header\",\"true\").option(\"inferSchema\",\"true\").load(\"/mnt/tokyoolympic/raw-data/athletes.csv\")\n",
    "coaches = spark.read.format(\"csv\").option(\"header\",\"true\").option(\"inferSchema\",\"true\").load(\"/mnt/tokyoolympic/raw-data/coaches.csv\")\n",
    "entriesgender = spark.read.format(\"csv\").option(\"header\",\"true\").option(\"inferSchema\",\"true\").load(\"/mnt/tokyoolympic/raw-data/entriesgender.csv\")\n",
    "medals = spark.read.format(\"csv\").option(\"header\",\"true\").option(\"inferSchema\",\"true\").load(\"/mnt/tokyoolympic/raw-data/medals.csv\")\n",
    "teams = spark.read.format(\"csv\").option(\"header\",\"true\").option(\"inferSchema\",\"true\").load(\"/mnt/tokyoolympic/raw-data/teams.csv\")"
   ]
  },
  {
   "cell_type": "code",
   "execution_count": null,
   "id": "0cd522e1-c91c-47b9-812e-f3e71c681de7",
   "metadata": {},
   "outputs": [],
   "source": [
    "coaches.show()"
   ]
  },
  {
   "cell_type": "code",
   "execution_count": null,
   "id": "fa305797-2ee6-4348-b41b-37c811ac742e",
   "metadata": {},
   "outputs": [],
   "source": [
    "coaches.printSchema() # Nothing wrong in the dataframe"
   ]
  },
  {
   "cell_type": "code",
   "execution_count": null,
   "id": "6254877b-ce25-46a0-af50-d878c9baf882",
   "metadata": {},
   "outputs": [],
   "source": [
    "entriesgender.show()"
   ]
  },
  {
   "cell_type": "code",
   "execution_count": null,
   "id": "2d69724d-d67a-4af6-b5df-df4d39fb23cc",
   "metadata": {},
   "outputs": [],
   "source": [
    "entriesgender.printSchema()"
   ]
  },
  {
   "cell_type": "code",
   "execution_count": 1,
   "id": "56281fe2-a43a-4128-9e54-31e037e07708",
   "metadata": {},
   "outputs": [
    {
     "ename": "ImportError",
     "evalue": "cannot import name 'Doubletype' from 'pyspark.sql.types' (/Users/s3awagle/opt/anaconda3/lib/python3.9/site-packages/pyspark/sql/types.py)",
     "output_type": "error",
     "traceback": [
      "\u001b[0;31m---------------------------------------------------------------------------\u001b[0m",
      "\u001b[0;31mImportError\u001b[0m                               Traceback (most recent call last)",
      "Input \u001b[0;32mIn [1]\u001b[0m, in \u001b[0;36m<cell line: 2>\u001b[0;34m()\u001b[0m\n\u001b[1;32m      1\u001b[0m \u001b[38;5;28;01mfrom\u001b[39;00m \u001b[38;5;21;01mpyspark\u001b[39;00m\u001b[38;5;21;01m.\u001b[39;00m\u001b[38;5;21;01msql\u001b[39;00m\u001b[38;5;21;01m.\u001b[39;00m\u001b[38;5;21;01mfunctions\u001b[39;00m \u001b[38;5;28;01mimport\u001b[39;00m col\n\u001b[0;32m----> 2\u001b[0m \u001b[38;5;28;01mfrom\u001b[39;00m \u001b[38;5;21;01mpyspark\u001b[39;00m\u001b[38;5;21;01m.\u001b[39;00m\u001b[38;5;21;01msql\u001b[39;00m\u001b[38;5;21;01m.\u001b[39;00m\u001b[38;5;21;01mtypes\u001b[39;00m \u001b[38;5;28;01mimport\u001b[39;00m IntegerType, Doubletype, BooleanType, DateType\n",
      "\u001b[0;31mImportError\u001b[0m: cannot import name 'Doubletype' from 'pyspark.sql.types' (/Users/s3awagle/opt/anaconda3/lib/python3.9/site-packages/pyspark/sql/types.py)"
     ]
    }
   ],
   "source": [
    "from pyspark.sql.functions import col\n",
    "from pyspark.sql.types import IntegerType, Doubletype, BooleanType, DateType"
   ]
  },
  {
   "cell_type": "code",
   "execution_count": null,
   "id": "6e850f04-d7d7-4b94-9603-a3b2655a3af2",
   "metadata": {},
   "outputs": [],
   "source": [
    "# We need to change the data type, so we can push the data quality\n",
    "# forward to the analysts and scientists\n",
    "\n",
    "entriesgender.withColumn(\"Female\",col(\"Female\").cast(IntegerType())\\\n",
    "                         .withColumn(\"Male\",col(\"Male\").cast(IntegerType())\\\n",
    "                         .withColumn(\"Total\",col(\"Total\").cast(IntegerType())"
   ]
  },
  {
   "cell_type": "code",
   "execution_count": null,
   "id": "e30f1269-fa57-4d6d-90e8-c7bc9403a842",
   "metadata": {},
   "outputs": [],
   "source": [
    "entriesgender.printSchema() # gives you the type of data in \n",
    "# entriesgender dataframe"
   ]
  },
  {
   "cell_type": "code",
   "execution_count": null,
   "id": "29e8d8a5-adf3-4f79-b008-e655a5251855",
   "metadata": {},
   "outputs": [],
   "source": [
    "medals.show()"
   ]
  },
  {
   "cell_type": "code",
   "execution_count": null,
   "id": "c6a3bf73-3329-4066-8eeb-1c023f241f60",
   "metadata": {},
   "outputs": [],
   "source": [
    "medals.printSchema()"
   ]
  },
  {
   "cell_type": "code",
   "execution_count": null,
   "id": "cd158670-b015-4f33-a0e5-c8669ade97e8",
   "metadata": {},
   "outputs": [],
   "source": [
    "# Find the top countries with the highest number of gold medals\n",
    "\n",
    "top_gold_medal_countries = medals.orderBy(\"Gold\",ascending = False).select(\"team_countries\",\"country\").show()\n",
    "\n"
   ]
  },
  {
   "cell_type": "code",
   "execution_count": null,
   "id": "fdd0c5f8-a050-49a0-884e-24b0a393e8ae",
   "metadata": {},
   "outputs": [],
   "source": [
    "# Load transformed data to data warehouse or data lake\n",
    "\n",
    "athletes.write.option(\"header\",\"true\").csv(\"/mnt/tokyoolympics/transformed-data/athletes\")"
   ]
  },
  {
   "cell_type": "code",
   "execution_count": null,
   "id": "09030d3b-6b99-4f83-9069-1df2b8494bb6",
   "metadata": {},
   "outputs": [],
   "source": [
    "# Overwrite on storage file\n",
    "\n",
    "athletes.write.mode(\"overwrite\").option(\"header\",\"true\").csv(\"/mnt/tokyoolympics/transformed-data/athletes\")\n",
    "\n",
    "athletes.repartition(3).write.mode(\"overwrite\").option(\"header\",\"true\").csv(\"/mnt/tokyoolympics/transformed-data/athletes\")\n",
    "                                                                            \n",
    "                                                    "
   ]
  }
 ],
 "metadata": {
  "kernelspec": {
   "display_name": "Python 3 (ipykernel)",
   "language": "python",
   "name": "python3"
  },
  "language_info": {
   "codemirror_mode": {
    "name": "ipython",
    "version": 3
   },
   "file_extension": ".py",
   "mimetype": "text/x-python",
   "name": "python",
   "nbconvert_exporter": "python",
   "pygments_lexer": "ipython3",
   "version": "3.9.12"
  }
 },
 "nbformat": 4,
 "nbformat_minor": 5
}
